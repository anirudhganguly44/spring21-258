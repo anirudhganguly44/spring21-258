{
  "nbformat": 4,
  "nbformat_minor": 0,
  "metadata": {
    "colab": {
      "name": "258_hw1_part1.ipynb",
      "provenance": []
    },
    "kernelspec": {
      "name": "python3",
      "display_name": "Python 3"
    },
    "accelerator": "GPU",
    "widgets": {
      "application/vnd.jupyter.widget-state+json": {
        "6f9eda1a11684c92be9cdd7c74cc8a74": {
          "model_module": "@jupyter-widgets/controls",
          "model_name": "HBoxModel",
          "state": {
            "_view_name": "HBoxView",
            "_dom_classes": [],
            "_model_name": "HBoxModel",
            "_view_module": "@jupyter-widgets/controls",
            "_model_module_version": "1.5.0",
            "_view_count": null,
            "_view_module_version": "1.5.0",
            "box_style": "",
            "layout": "IPY_MODEL_a362fa17401a435d806980f06a8a3def",
            "_model_module": "@jupyter-widgets/controls",
            "children": [
              "IPY_MODEL_935090d4a890480ab0613af41d13f00b",
              "IPY_MODEL_327cdc5e21dc42318167e128a812a641"
            ]
          }
        },
        "a362fa17401a435d806980f06a8a3def": {
          "model_module": "@jupyter-widgets/base",
          "model_name": "LayoutModel",
          "state": {
            "_view_name": "LayoutView",
            "grid_template_rows": null,
            "right": null,
            "justify_content": null,
            "_view_module": "@jupyter-widgets/base",
            "overflow": null,
            "_model_module_version": "1.2.0",
            "_view_count": null,
            "flex_flow": null,
            "width": null,
            "min_width": null,
            "border": null,
            "align_items": null,
            "bottom": null,
            "_model_module": "@jupyter-widgets/base",
            "top": null,
            "grid_column": null,
            "overflow_y": null,
            "overflow_x": null,
            "grid_auto_flow": null,
            "grid_area": null,
            "grid_template_columns": null,
            "flex": null,
            "_model_name": "LayoutModel",
            "justify_items": null,
            "grid_row": null,
            "max_height": null,
            "align_content": null,
            "visibility": null,
            "align_self": null,
            "height": null,
            "min_height": null,
            "padding": null,
            "grid_auto_rows": null,
            "grid_gap": null,
            "max_width": null,
            "order": null,
            "_view_module_version": "1.2.0",
            "grid_template_areas": null,
            "object_position": null,
            "object_fit": null,
            "grid_auto_columns": null,
            "margin": null,
            "display": null,
            "left": null
          }
        },
        "935090d4a890480ab0613af41d13f00b": {
          "model_module": "@jupyter-widgets/controls",
          "model_name": "FloatProgressModel",
          "state": {
            "_view_name": "ProgressView",
            "style": "IPY_MODEL_0816424e16904144a7091ac82034979e",
            "_dom_classes": [],
            "description": "100%",
            "_model_name": "FloatProgressModel",
            "bar_style": "success",
            "max": 87306240,
            "_view_module": "@jupyter-widgets/controls",
            "_model_module_version": "1.5.0",
            "value": 87306240,
            "_view_count": null,
            "_view_module_version": "1.5.0",
            "orientation": "horizontal",
            "min": 0,
            "description_tooltip": null,
            "_model_module": "@jupyter-widgets/controls",
            "layout": "IPY_MODEL_652a0a6f6b544ab9885b381b0fd16a4f"
          }
        },
        "327cdc5e21dc42318167e128a812a641": {
          "model_module": "@jupyter-widgets/controls",
          "model_name": "HTMLModel",
          "state": {
            "_view_name": "HTMLView",
            "style": "IPY_MODEL_448a40eac8f5480c9ed204727464fbcf",
            "_dom_classes": [],
            "description": "",
            "_model_name": "HTMLModel",
            "placeholder": "​",
            "_view_module": "@jupyter-widgets/controls",
            "_model_module_version": "1.5.0",
            "value": " 83.3M/83.3M [02:22&lt;00:00, 611kB/s]",
            "_view_count": null,
            "_view_module_version": "1.5.0",
            "description_tooltip": null,
            "_model_module": "@jupyter-widgets/controls",
            "layout": "IPY_MODEL_8237abbe1db84a4fb4ec1f907338272c"
          }
        },
        "0816424e16904144a7091ac82034979e": {
          "model_module": "@jupyter-widgets/controls",
          "model_name": "ProgressStyleModel",
          "state": {
            "_view_name": "StyleView",
            "_model_name": "ProgressStyleModel",
            "description_width": "initial",
            "_view_module": "@jupyter-widgets/base",
            "_model_module_version": "1.5.0",
            "_view_count": null,
            "_view_module_version": "1.2.0",
            "bar_color": null,
            "_model_module": "@jupyter-widgets/controls"
          }
        },
        "652a0a6f6b544ab9885b381b0fd16a4f": {
          "model_module": "@jupyter-widgets/base",
          "model_name": "LayoutModel",
          "state": {
            "_view_name": "LayoutView",
            "grid_template_rows": null,
            "right": null,
            "justify_content": null,
            "_view_module": "@jupyter-widgets/base",
            "overflow": null,
            "_model_module_version": "1.2.0",
            "_view_count": null,
            "flex_flow": null,
            "width": null,
            "min_width": null,
            "border": null,
            "align_items": null,
            "bottom": null,
            "_model_module": "@jupyter-widgets/base",
            "top": null,
            "grid_column": null,
            "overflow_y": null,
            "overflow_x": null,
            "grid_auto_flow": null,
            "grid_area": null,
            "grid_template_columns": null,
            "flex": null,
            "_model_name": "LayoutModel",
            "justify_items": null,
            "grid_row": null,
            "max_height": null,
            "align_content": null,
            "visibility": null,
            "align_self": null,
            "height": null,
            "min_height": null,
            "padding": null,
            "grid_auto_rows": null,
            "grid_gap": null,
            "max_width": null,
            "order": null,
            "_view_module_version": "1.2.0",
            "grid_template_areas": null,
            "object_position": null,
            "object_fit": null,
            "grid_auto_columns": null,
            "margin": null,
            "display": null,
            "left": null
          }
        },
        "448a40eac8f5480c9ed204727464fbcf": {
          "model_module": "@jupyter-widgets/controls",
          "model_name": "DescriptionStyleModel",
          "state": {
            "_view_name": "StyleView",
            "_model_name": "DescriptionStyleModel",
            "description_width": "",
            "_view_module": "@jupyter-widgets/base",
            "_model_module_version": "1.5.0",
            "_view_count": null,
            "_view_module_version": "1.2.0",
            "_model_module": "@jupyter-widgets/controls"
          }
        },
        "8237abbe1db84a4fb4ec1f907338272c": {
          "model_module": "@jupyter-widgets/base",
          "model_name": "LayoutModel",
          "state": {
            "_view_name": "LayoutView",
            "grid_template_rows": null,
            "right": null,
            "justify_content": null,
            "_view_module": "@jupyter-widgets/base",
            "overflow": null,
            "_model_module_version": "1.2.0",
            "_view_count": null,
            "flex_flow": null,
            "width": null,
            "min_width": null,
            "border": null,
            "align_items": null,
            "bottom": null,
            "_model_module": "@jupyter-widgets/base",
            "top": null,
            "grid_column": null,
            "overflow_y": null,
            "overflow_x": null,
            "grid_auto_flow": null,
            "grid_area": null,
            "grid_template_columns": null,
            "flex": null,
            "_model_name": "LayoutModel",
            "justify_items": null,
            "grid_row": null,
            "max_height": null,
            "align_content": null,
            "visibility": null,
            "align_self": null,
            "height": null,
            "min_height": null,
            "padding": null,
            "grid_auto_rows": null,
            "grid_gap": null,
            "max_width": null,
            "order": null,
            "_view_module_version": "1.2.0",
            "grid_template_areas": null,
            "object_position": null,
            "object_fit": null,
            "grid_auto_columns": null,
            "margin": null,
            "display": null,
            "left": null
          }
        },
        "edbac00d601140f3ae23c76be2c75094": {
          "model_module": "@jupyter-widgets/controls",
          "model_name": "FileUploadModel",
          "state": {
            "_view_name": "FileUploadView",
            "_counter": 2,
            "style": "IPY_MODEL_7be4bff2474644ffbccce73eabd8b13a",
            "_dom_classes": [],
            "description": "Upload",
            "multiple": true,
            "_model_name": "FileUploadModel",
            "data": [
              null,
              null
            ],
            "button_style": "",
            "_view_module": "@jupyter-widgets/controls",
            "_model_module_version": "1.5.0",
            "accept": "",
            "_view_count": null,
            "disabled": false,
            "_view_module_version": "1.5.0",
            "error": "",
            "description_tooltip": null,
            "metadata": [
              {
                "name": "cat1.jpg",
                "type": "image/jpeg",
                "size": 781963,
                "lastModified": 1612064042126
              },
              {
                "name": "dog1.jpg",
                "type": "image/jpeg",
                "size": 288385,
                "lastModified": 1612064706218
              }
            ],
            "_model_module": "@jupyter-widgets/controls",
            "layout": "IPY_MODEL_f4a7717f315d433687492908df8d859a",
            "icon": "upload"
          }
        },
        "7be4bff2474644ffbccce73eabd8b13a": {
          "model_module": "@jupyter-widgets/controls",
          "model_name": "ButtonStyleModel",
          "state": {
            "_view_name": "StyleView",
            "_model_name": "ButtonStyleModel",
            "_view_module": "@jupyter-widgets/base",
            "_model_module_version": "1.5.0",
            "_view_count": null,
            "button_color": null,
            "font_weight": "",
            "_view_module_version": "1.2.0",
            "_model_module": "@jupyter-widgets/controls"
          }
        },
        "f4a7717f315d433687492908df8d859a": {
          "model_module": "@jupyter-widgets/base",
          "model_name": "LayoutModel",
          "state": {
            "_view_name": "LayoutView",
            "grid_template_rows": null,
            "right": null,
            "justify_content": null,
            "_view_module": "@jupyter-widgets/base",
            "overflow": null,
            "_model_module_version": "1.2.0",
            "_view_count": null,
            "flex_flow": null,
            "width": null,
            "min_width": null,
            "border": null,
            "align_items": null,
            "bottom": null,
            "_model_module": "@jupyter-widgets/base",
            "top": null,
            "grid_column": null,
            "overflow_y": null,
            "overflow_x": null,
            "grid_auto_flow": null,
            "grid_area": null,
            "grid_template_columns": null,
            "flex": null,
            "_model_name": "LayoutModel",
            "justify_items": null,
            "grid_row": null,
            "max_height": null,
            "align_content": null,
            "visibility": null,
            "align_self": null,
            "height": null,
            "min_height": null,
            "padding": null,
            "grid_auto_rows": null,
            "grid_gap": null,
            "max_width": null,
            "order": null,
            "_view_module_version": "1.2.0",
            "grid_template_areas": null,
            "object_position": null,
            "object_fit": null,
            "grid_auto_columns": null,
            "margin": null,
            "display": null,
            "left": null
          }
        }
      }
    }
  },
  "cells": [
    {
      "cell_type": "markdown",
      "metadata": {
        "id": "zg_JGtMS2hXC"
      },
      "source": [
        "# Assignment 1"
      ]
    },
    {
      "cell_type": "code",
      "metadata": {
        "colab": {
          "base_uri": "https://localhost:8080/"
        },
        "id": "m7kj-QmDQ4xx",
        "outputId": "5314746e-af6e-493a-9dca-cce0b0d93901"
      },
      "source": [
        "!pip install -Uqq fastbook\r\n",
        "import fastbook\r\n",
        "fastbook.setup_book()\r\n"
      ],
      "execution_count": null,
      "outputs": [
        {
          "output_type": "stream",
          "text": [
            "\u001b[?25l\r\u001b[K     |▌                               | 10kB 24.8MB/s eta 0:00:01\r\u001b[K     |█                               | 20kB 28.3MB/s eta 0:00:01\r\u001b[K     |█▍                              | 30kB 20.8MB/s eta 0:00:01\r\u001b[K     |█▉                              | 40kB 24.4MB/s eta 0:00:01\r\u001b[K     |██▎                             | 51kB 24.0MB/s eta 0:00:01\r\u001b[K     |██▊                             | 61kB 17.7MB/s eta 0:00:01\r\u001b[K     |███▏                            | 71kB 17.9MB/s eta 0:00:01\r\u001b[K     |███▋                            | 81kB 19.1MB/s eta 0:00:01\r\u001b[K     |████                            | 92kB 18.0MB/s eta 0:00:01\r\u001b[K     |████▌                           | 102kB 17.9MB/s eta 0:00:01\r\u001b[K     |█████                           | 112kB 17.9MB/s eta 0:00:01\r\u001b[K     |█████▌                          | 122kB 17.9MB/s eta 0:00:01\r\u001b[K     |██████                          | 133kB 17.9MB/s eta 0:00:01\r\u001b[K     |██████▍                         | 143kB 17.9MB/s eta 0:00:01\r\u001b[K     |██████▉                         | 153kB 17.9MB/s eta 0:00:01\r\u001b[K     |███████▎                        | 163kB 17.9MB/s eta 0:00:01\r\u001b[K     |███████▊                        | 174kB 17.9MB/s eta 0:00:01\r\u001b[K     |████████▏                       | 184kB 17.9MB/s eta 0:00:01\r\u001b[K     |████████▋                       | 194kB 17.9MB/s eta 0:00:01\r\u001b[K     |█████████                       | 204kB 17.9MB/s eta 0:00:01\r\u001b[K     |█████████▋                      | 215kB 17.9MB/s eta 0:00:01\r\u001b[K     |██████████                      | 225kB 17.9MB/s eta 0:00:01\r\u001b[K     |██████████▌                     | 235kB 17.9MB/s eta 0:00:01\r\u001b[K     |███████████                     | 245kB 17.9MB/s eta 0:00:01\r\u001b[K     |███████████▍                    | 256kB 17.9MB/s eta 0:00:01\r\u001b[K     |███████████▉                    | 266kB 17.9MB/s eta 0:00:01\r\u001b[K     |████████████▎                   | 276kB 17.9MB/s eta 0:00:01\r\u001b[K     |████████████▊                   | 286kB 17.9MB/s eta 0:00:01\r\u001b[K     |█████████████▏                  | 296kB 17.9MB/s eta 0:00:01\r\u001b[K     |█████████████▋                  | 307kB 17.9MB/s eta 0:00:01\r\u001b[K     |██████████████                  | 317kB 17.9MB/s eta 0:00:01\r\u001b[K     |██████████████▋                 | 327kB 17.9MB/s eta 0:00:01\r\u001b[K     |███████████████                 | 337kB 17.9MB/s eta 0:00:01\r\u001b[K     |███████████████▌                | 348kB 17.9MB/s eta 0:00:01\r\u001b[K     |████████████████                | 358kB 17.9MB/s eta 0:00:01\r\u001b[K     |████████████████▍               | 368kB 17.9MB/s eta 0:00:01\r\u001b[K     |████████████████▉               | 378kB 17.9MB/s eta 0:00:01\r\u001b[K     |█████████████████▎              | 389kB 17.9MB/s eta 0:00:01\r\u001b[K     |█████████████████▊              | 399kB 17.9MB/s eta 0:00:01\r\u001b[K     |██████████████████▏             | 409kB 17.9MB/s eta 0:00:01\r\u001b[K     |██████████████████▋             | 419kB 17.9MB/s eta 0:00:01\r\u001b[K     |███████████████████▏            | 430kB 17.9MB/s eta 0:00:01\r\u001b[K     |███████████████████▋            | 440kB 17.9MB/s eta 0:00:01\r\u001b[K     |████████████████████            | 450kB 17.9MB/s eta 0:00:01\r\u001b[K     |████████████████████▌           | 460kB 17.9MB/s eta 0:00:01\r\u001b[K     |█████████████████████           | 471kB 17.9MB/s eta 0:00:01\r\u001b[K     |█████████████████████▍          | 481kB 17.9MB/s eta 0:00:01\r\u001b[K     |█████████████████████▉          | 491kB 17.9MB/s eta 0:00:01\r\u001b[K     |██████████████████████▎         | 501kB 17.9MB/s eta 0:00:01\r\u001b[K     |██████████████████████▊         | 512kB 17.9MB/s eta 0:00:01\r\u001b[K     |███████████████████████▏        | 522kB 17.9MB/s eta 0:00:01\r\u001b[K     |███████████████████████▋        | 532kB 17.9MB/s eta 0:00:01\r\u001b[K     |████████████████████████▏       | 542kB 17.9MB/s eta 0:00:01\r\u001b[K     |████████████████████████▋       | 552kB 17.9MB/s eta 0:00:01\r\u001b[K     |█████████████████████████       | 563kB 17.9MB/s eta 0:00:01\r\u001b[K     |█████████████████████████▌      | 573kB 17.9MB/s eta 0:00:01\r\u001b[K     |██████████████████████████      | 583kB 17.9MB/s eta 0:00:01\r\u001b[K     |██████████████████████████▍     | 593kB 17.9MB/s eta 0:00:01\r\u001b[K     |██████████████████████████▉     | 604kB 17.9MB/s eta 0:00:01\r\u001b[K     |███████████████████████████▎    | 614kB 17.9MB/s eta 0:00:01\r\u001b[K     |███████████████████████████▊    | 624kB 17.9MB/s eta 0:00:01\r\u001b[K     |████████████████████████████▏   | 634kB 17.9MB/s eta 0:00:01\r\u001b[K     |████████████████████████████▊   | 645kB 17.9MB/s eta 0:00:01\r\u001b[K     |█████████████████████████████▏  | 655kB 17.9MB/s eta 0:00:01\r\u001b[K     |█████████████████████████████▋  | 665kB 17.9MB/s eta 0:00:01\r\u001b[K     |██████████████████████████████  | 675kB 17.9MB/s eta 0:00:01\r\u001b[K     |██████████████████████████████▌ | 686kB 17.9MB/s eta 0:00:01\r\u001b[K     |███████████████████████████████ | 696kB 17.9MB/s eta 0:00:01\r\u001b[K     |███████████████████████████████▍| 706kB 17.9MB/s eta 0:00:01\r\u001b[K     |███████████████████████████████▉| 716kB 17.9MB/s eta 0:00:01\r\u001b[K     |████████████████████████████████| 727kB 17.9MB/s \n",
            "\u001b[K     |████████████████████████████████| 194kB 54.0MB/s \n",
            "\u001b[K     |████████████████████████████████| 51kB 9.0MB/s \n",
            "\u001b[K     |████████████████████████████████| 1.2MB 55.7MB/s \n",
            "\u001b[K     |████████████████████████████████| 61kB 10.7MB/s \n",
            "\u001b[?25hMounted at /content/gdrive\n"
          ],
          "name": "stdout"
        }
      ]
    },
    {
      "cell_type": "markdown",
      "metadata": {
        "id": "I-NFJNiQdzX5"
      },
      "source": [
        "**First dog \\ cat classifier**"
      ]
    },
    {
      "cell_type": "code",
      "metadata": {
        "colab": {
          "base_uri": "https://localhost:8080/",
          "height": 209,
          "referenced_widgets": [
            "6f9eda1a11684c92be9cdd7c74cc8a74",
            "a362fa17401a435d806980f06a8a3def",
            "935090d4a890480ab0613af41d13f00b",
            "327cdc5e21dc42318167e128a812a641",
            "0816424e16904144a7091ac82034979e",
            "652a0a6f6b544ab9885b381b0fd16a4f",
            "448a40eac8f5480c9ed204727464fbcf",
            "8237abbe1db84a4fb4ec1f907338272c"
          ]
        },
        "id": "RuiYJFQ9clgH",
        "outputId": "7c4a6418-93b0-46ed-88bc-e3e574264b02"
      },
      "source": [
        "from fastai.vision.all import *\r\n",
        "path = untar_data(URLs.PETS)/'images'\r\n",
        "\r\n",
        "#function to check the first char and determine if the image is a dog\r\n",
        "def is_dog(x):\r\n",
        "  return x[0].islower()\r\n",
        "\r\n",
        "dls = ImageDataLoaders.from_name_func(path, get_image_files(path), \r\n",
        "          valid_pct=0.2, seed=42, label_func=is_dog, item_tfms=Resize(64))\r\n",
        "\r\n",
        "learn = cnn_learner(dls, resnet34, metrics=error_rate)\r\n",
        "learn.fine_tune(1)"
      ],
      "execution_count": null,
      "outputs": [
        {
          "output_type": "display_data",
          "data": {
            "text/html": [
              ""
            ],
            "text/plain": [
              "<IPython.core.display.HTML object>"
            ]
          },
          "metadata": {
            "tags": []
          }
        },
        {
          "output_type": "stream",
          "text": [
            "Downloading: \"https://download.pytorch.org/models/resnet34-333f7ec4.pth\" to /root/.cache/torch/hub/checkpoints/resnet34-333f7ec4.pth\n"
          ],
          "name": "stderr"
        },
        {
          "output_type": "display_data",
          "data": {
            "application/vnd.jupyter.widget-view+json": {
              "model_id": "6f9eda1a11684c92be9cdd7c74cc8a74",
              "version_minor": 0,
              "version_major": 2
            },
            "text/plain": [
              "HBox(children=(FloatProgress(value=0.0, max=87306240.0), HTML(value='')))"
            ]
          },
          "metadata": {
            "tags": []
          }
        },
        {
          "output_type": "stream",
          "text": [
            "\n"
          ],
          "name": "stdout"
        },
        {
          "output_type": "display_data",
          "data": {
            "text/html": [
              "<table border=\"1\" class=\"dataframe\">\n",
              "  <thead>\n",
              "    <tr style=\"text-align: left;\">\n",
              "      <th>epoch</th>\n",
              "      <th>train_loss</th>\n",
              "      <th>valid_loss</th>\n",
              "      <th>error_rate</th>\n",
              "      <th>time</th>\n",
              "    </tr>\n",
              "  </thead>\n",
              "  <tbody>\n",
              "    <tr>\n",
              "      <td>0</td>\n",
              "      <td>0.857431</td>\n",
              "      <td>0.528748</td>\n",
              "      <td>0.220568</td>\n",
              "      <td>00:36</td>\n",
              "    </tr>\n",
              "  </tbody>\n",
              "</table>"
            ],
            "text/plain": [
              "<IPython.core.display.HTML object>"
            ]
          },
          "metadata": {
            "tags": []
          }
        },
        {
          "output_type": "display_data",
          "data": {
            "text/html": [
              "<table border=\"1\" class=\"dataframe\">\n",
              "  <thead>\n",
              "    <tr style=\"text-align: left;\">\n",
              "      <th>epoch</th>\n",
              "      <th>train_loss</th>\n",
              "      <th>valid_loss</th>\n",
              "      <th>error_rate</th>\n",
              "      <th>time</th>\n",
              "    </tr>\n",
              "  </thead>\n",
              "  <tbody>\n",
              "    <tr>\n",
              "      <td>0</td>\n",
              "      <td>0.464088</td>\n",
              "      <td>0.288530</td>\n",
              "      <td>0.123816</td>\n",
              "      <td>00:36</td>\n",
              "    </tr>\n",
              "  </tbody>\n",
              "</table>"
            ],
            "text/plain": [
              "<IPython.core.display.HTML object>"
            ]
          },
          "metadata": {
            "tags": []
          }
        }
      ]
    },
    {
      "cell_type": "code",
      "metadata": {
        "colab": {
          "base_uri": "https://localhost:8080/",
          "height": 49,
          "referenced_widgets": [
            "edbac00d601140f3ae23c76be2c75094",
            "7be4bff2474644ffbccce73eabd8b13a",
            "f4a7717f315d433687492908df8d859a"
          ]
        },
        "id": "vUT5fJDEd3RJ",
        "outputId": "f5d23ae2-f494-49b3-9d37-bf269151e7d4"
      },
      "source": [
        "#need to upload two images.\r\n",
        "from ipywidgets import FileUpload\r\n",
        "uploader = FileUpload(multiple=True)\r\n",
        "uploader"
      ],
      "execution_count": null,
      "outputs": [
        {
          "output_type": "display_data",
          "data": {
            "application/vnd.jupyter.widget-view+json": {
              "model_id": "edbac00d601140f3ae23c76be2c75094",
              "version_minor": 0,
              "version_major": 2
            },
            "text/plain": [
              "FileUpload(value={}, description='Upload', multiple=True)"
            ]
          },
          "metadata": {
            "tags": []
          }
        }
      ]
    },
    {
      "cell_type": "code",
      "metadata": {
        "colab": {
          "base_uri": "https://localhost:8080/",
          "height": 51
        },
        "id": "3ptdwYmngtWr",
        "outputId": "3e18c182-1388-423a-9a70-6906a75ebb5e"
      },
      "source": [
        "#testing with cat picture\r\n",
        "test_cat_image = PILImage.create(uploader.data[0])\r\n",
        "is_dog,_,probs = learn.predict(test_cat_image)\r\n",
        "\r\n",
        "print(f\"Is this a dog?: {is_dog}.\")\r\n",
        "print(f\"Probability its a dog: {probs[1].item()}\")"
      ],
      "execution_count": null,
      "outputs": [
        {
          "output_type": "display_data",
          "data": {
            "text/html": [
              ""
            ],
            "text/plain": [
              "<IPython.core.display.HTML object>"
            ]
          },
          "metadata": {
            "tags": []
          }
        },
        {
          "output_type": "stream",
          "text": [
            "Is this a dog?: False.\n",
            "Probability its a dog: 0.0019121369114145637\n"
          ],
          "name": "stdout"
        }
      ]
    },
    {
      "cell_type": "code",
      "metadata": {
        "colab": {
          "base_uri": "https://localhost:8080/",
          "height": 51
        },
        "id": "RF6BSHArhsiK",
        "outputId": "6bf36809-e5bf-46d9-ceb1-0d15240f0dcf"
      },
      "source": [
        "#testing with dog picture\r\n",
        "test_dog_image = PILImage.create(uploader.data[1])\r\n",
        "is_dog,_,probs = learn.predict(test_dog_image)\r\n",
        "\r\n",
        "print(f\"Is this a dog?: {is_dog}.\")\r\n",
        "print(f\"Probability its a dog: {probs[1].item()}\")"
      ],
      "execution_count": null,
      "outputs": [
        {
          "output_type": "display_data",
          "data": {
            "text/html": [
              ""
            ],
            "text/plain": [
              "<IPython.core.display.HTML object>"
            ]
          },
          "metadata": {
            "tags": []
          }
        },
        {
          "output_type": "stream",
          "text": [
            "Is this a dog?: True.\n",
            "Probability its a dog: 0.9979057312011719\n"
          ],
          "name": "stdout"
        }
      ]
    },
    {
      "cell_type": "markdown",
      "metadata": {
        "id": "rXvELqWx3Hnh"
      },
      "source": [
        "**Segmentation model**"
      ]
    },
    {
      "cell_type": "code",
      "metadata": {
        "colab": {
          "base_uri": "https://localhost:8080/",
          "height": 143
        },
        "id": "LjOgq-DY3LB_",
        "outputId": "b8fee094-22a6-491b-a3ee-96686b7c869a"
      },
      "source": [
        "import numpy as np\r\n",
        "path = untar_data(URLs.CAMVID_TINY)\r\n",
        "dls = SegmentationDataLoaders.from_label_func( path, bs=8, fnames = get_image_files(path/\"images\"),\r\n",
        "    label_func = lambda o: path/'labels'/f'{o.stem}_P{o.suffix}', codes = np.loadtxt(path/'codes.txt', dtype=str))\r\n",
        "\r\n",
        "learn = unet_learner(dls, resnet34)\r\n",
        "learn.fine_tune(1)"
      ],
      "execution_count": null,
      "outputs": [
        {
          "output_type": "display_data",
          "data": {
            "text/html": [
              ""
            ],
            "text/plain": [
              "<IPython.core.display.HTML object>"
            ]
          },
          "metadata": {
            "tags": []
          }
        },
        {
          "output_type": "display_data",
          "data": {
            "text/html": [
              "<table border=\"1\" class=\"dataframe\">\n",
              "  <thead>\n",
              "    <tr style=\"text-align: left;\">\n",
              "      <th>epoch</th>\n",
              "      <th>train_loss</th>\n",
              "      <th>valid_loss</th>\n",
              "      <th>time</th>\n",
              "    </tr>\n",
              "  </thead>\n",
              "  <tbody>\n",
              "    <tr>\n",
              "      <td>0</td>\n",
              "      <td>3.184812</td>\n",
              "      <td>2.532895</td>\n",
              "      <td>00:01</td>\n",
              "    </tr>\n",
              "  </tbody>\n",
              "</table>"
            ],
            "text/plain": [
              "<IPython.core.display.HTML object>"
            ]
          },
          "metadata": {
            "tags": []
          }
        },
        {
          "output_type": "display_data",
          "data": {
            "text/html": [
              "<table border=\"1\" class=\"dataframe\">\n",
              "  <thead>\n",
              "    <tr style=\"text-align: left;\">\n",
              "      <th>epoch</th>\n",
              "      <th>train_loss</th>\n",
              "      <th>valid_loss</th>\n",
              "      <th>time</th>\n",
              "    </tr>\n",
              "  </thead>\n",
              "  <tbody>\n",
              "    <tr>\n",
              "      <td>0</td>\n",
              "      <td>1.867968</td>\n",
              "      <td>1.555328</td>\n",
              "      <td>00:01</td>\n",
              "    </tr>\n",
              "  </tbody>\n",
              "</table>"
            ],
            "text/plain": [
              "<IPython.core.display.HTML object>"
            ]
          },
          "metadata": {
            "tags": []
          }
        }
      ]
    },
    {
      "cell_type": "code",
      "metadata": {
        "colab": {
          "base_uri": "https://localhost:8080/",
          "height": 491
        },
        "id": "fzxtU2a5kLsz",
        "outputId": "a5131522-0b4a-412e-b729-53884ed27f23"
      },
      "source": [
        "learn.show_results(max_n=6, figsize=(7,8))"
      ],
      "execution_count": null,
      "outputs": [
        {
          "output_type": "display_data",
          "data": {
            "text/html": [
              ""
            ],
            "text/plain": [
              "<IPython.core.display.HTML object>"
            ]
          },
          "metadata": {
            "tags": []
          }
        },
        {
          "output_type": "display_data",
          "data": {
            "image/png": "[encoded data removed]",
            "text/plain": [
              "<Figure size 504x576 with 4 Axes>"
            ]
          },
          "metadata": {
            "tags": [],
            "needs_background": "light"
          }
        }
      ]
    },
    {
      "cell_type": "code",
      "metadata": {
        "colab": {
          "base_uri": "https://localhost:8080/",
          "height": 236
        },
        "id": "KJjDd9d6kpGA",
        "outputId": "add8d758-912e-4da6-caef-6dfe8c94a903"
      },
      "source": [
        "from fastai.text.all import *\r\n",
        "\r\n",
        "dls = TextDataLoaders.from_folder(untar_data(URLs.IMDB), valid='test')\r\n",
        "learn = text_classifier_learner(dls, AWD_LSTM, drop_mult=0.5, metrics=accuracy)\r\n",
        "learn.fine_tune(4, 1e-2)"
      ],
      "execution_count": null,
      "outputs": [
        {
          "output_type": "display_data",
          "data": {
            "text/html": [
              ""
            ],
            "text/plain": [
              "<IPython.core.display.HTML object>"
            ]
          },
          "metadata": {
            "tags": []
          }
        },
        {
          "output_type": "display_data",
          "data": {
            "text/html": [
              ""
            ],
            "text/plain": [
              "<IPython.core.display.HTML object>"
            ]
          },
          "metadata": {
            "tags": []
          }
        },
        {
          "output_type": "display_data",
          "data": {
            "text/html": [
              ""
            ],
            "text/plain": [
              "<IPython.core.display.HTML object>"
            ]
          },
          "metadata": {
            "tags": []
          }
        },
        {
          "output_type": "display_data",
          "data": {
            "text/html": [
              "<table border=\"1\" class=\"dataframe\">\n",
              "  <thead>\n",
              "    <tr style=\"text-align: left;\">\n",
              "      <th>epoch</th>\n",
              "      <th>train_loss</th>\n",
              "      <th>valid_loss</th>\n",
              "      <th>accuracy</th>\n",
              "      <th>time</th>\n",
              "    </tr>\n",
              "  </thead>\n",
              "  <tbody>\n",
              "    <tr>\n",
              "      <td>0</td>\n",
              "      <td>0.458381</td>\n",
              "      <td>0.403363</td>\n",
              "      <td>0.816560</td>\n",
              "      <td>03:44</td>\n",
              "    </tr>\n",
              "  </tbody>\n",
              "</table>"
            ],
            "text/plain": [
              "<IPython.core.display.HTML object>"
            ]
          },
          "metadata": {
            "tags": []
          }
        },
        {
          "output_type": "display_data",
          "data": {
            "text/html": [
              "<table border=\"1\" class=\"dataframe\">\n",
              "  <thead>\n",
              "    <tr style=\"text-align: left;\">\n",
              "      <th>epoch</th>\n",
              "      <th>train_loss</th>\n",
              "      <th>valid_loss</th>\n",
              "      <th>accuracy</th>\n",
              "      <th>time</th>\n",
              "    </tr>\n",
              "  </thead>\n",
              "  <tbody>\n",
              "    <tr>\n",
              "      <td>0</td>\n",
              "      <td>0.307624</td>\n",
              "      <td>0.346697</td>\n",
              "      <td>0.842720</td>\n",
              "      <td>07:26</td>\n",
              "    </tr>\n",
              "    <tr>\n",
              "      <td>1</td>\n",
              "      <td>0.244655</td>\n",
              "      <td>0.237126</td>\n",
              "      <td>0.902200</td>\n",
              "      <td>07:27</td>\n",
              "    </tr>\n",
              "    <tr>\n",
              "      <td>2</td>\n",
              "      <td>0.192799</td>\n",
              "      <td>0.191076</td>\n",
              "      <td>0.928920</td>\n",
              "      <td>07:28</td>\n",
              "    </tr>\n",
              "    <tr>\n",
              "      <td>3</td>\n",
              "      <td>0.157814</td>\n",
              "      <td>0.192636</td>\n",
              "      <td>0.928840</td>\n",
              "      <td>07:27</td>\n",
              "    </tr>\n",
              "  </tbody>\n",
              "</table>"
            ],
            "text/plain": [
              "<IPython.core.display.HTML object>"
            ]
          },
          "metadata": {
            "tags": []
          }
        }
      ]
    },
    {
      "cell_type": "code",
      "metadata": {
        "colab": {
          "base_uri": "https://localhost:8080/",
          "height": 34
        },
        "id": "YUarEPn0vQR_",
        "outputId": "dfd3bca8-e7e7-4988-eace-237b3db5e8d5"
      },
      "source": [
        "learn.predict(\"This movie is entertaining. I would reccomend it to a friend\")"
      ],
      "execution_count": null,
      "outputs": [
        {
          "output_type": "display_data",
          "data": {
            "text/html": [
              ""
            ],
            "text/plain": [
              "<IPython.core.display.HTML object>"
            ]
          },
          "metadata": {
            "tags": []
          }
        },
        {
          "output_type": "execute_result",
          "data": {
            "text/plain": [
              "('pos', tensor(1), tensor([1.3612e-04, 9.9986e-01]))"
            ]
          },
          "metadata": {
            "tags": []
          },
          "execution_count": 10
        }
      ]
    },
    {
      "cell_type": "code",
      "metadata": {
        "colab": {
          "base_uri": "https://localhost:8080/",
          "height": 34
        },
        "id": "wAlwLBwovfE3",
        "outputId": "a2b24a8c-2892-47b2-b8ab-a09398929827"
      },
      "source": [
        "learn.predict(\"The movie is boring. Acting is poor\")"
      ],
      "execution_count": null,
      "outputs": [
        {
          "output_type": "display_data",
          "data": {
            "text/html": [
              ""
            ],
            "text/plain": [
              "<IPython.core.display.HTML object>"
            ]
          },
          "metadata": {
            "tags": []
          }
        },
        {
          "output_type": "execute_result",
          "data": {
            "text/plain": [
              "('neg', tensor(0), tensor([0.9979, 0.0021]))"
            ]
          },
          "metadata": {
            "tags": []
          },
          "execution_count": 11
        }
      ]
    },
    {
      "cell_type": "code",
      "metadata": {
        "colab": {
          "base_uri": "https://localhost:8080/",
          "height": 142
        },
        "id": "5wPg033HpZUX",
        "outputId": "d19dae13-d6b9-4eb0-e116-64cb5401fb81"
      },
      "source": [
        "from fastai.tabular.all import *\r\n",
        "path = untar_data(URLs.ADULT_SAMPLE)\r\n",
        "\r\n",
        "dls = TabularDataLoaders.from_csv(path/'adult.csv', path=path, y_names='salary',\r\n",
        "    cat_names = ['workclass', 'education', 'marital-status', 'occupation',  'relationship', 'race'],\r\n",
        "    cont_names = ['age', 'fnlwgt', 'education-num'],\r\n",
        "    procs = [Categorify, FillMissing, Normalize])\r\n",
        "\r\n",
        "learn = tabular_learner(dls, metrics=accuracy)\r\n",
        "learn.fit_one_cycle(3)"
      ],
      "execution_count": null,
      "outputs": [
        {
          "output_type": "display_data",
          "data": {
            "text/html": [
              ""
            ],
            "text/plain": [
              "<IPython.core.display.HTML object>"
            ]
          },
          "metadata": {
            "tags": []
          }
        },
        {
          "output_type": "display_data",
          "data": {
            "text/html": [
              "<table border=\"1\" class=\"dataframe\">\n",
              "  <thead>\n",
              "    <tr style=\"text-align: left;\">\n",
              "      <th>epoch</th>\n",
              "      <th>train_loss</th>\n",
              "      <th>valid_loss</th>\n",
              "      <th>accuracy</th>\n",
              "      <th>time</th>\n",
              "    </tr>\n",
              "  </thead>\n",
              "  <tbody>\n",
              "    <tr>\n",
              "      <td>0</td>\n",
              "      <td>0.366281</td>\n",
              "      <td>0.368004</td>\n",
              "      <td>0.832924</td>\n",
              "      <td>00:05</td>\n",
              "    </tr>\n",
              "    <tr>\n",
              "      <td>1</td>\n",
              "      <td>0.362239</td>\n",
              "      <td>0.357411</td>\n",
              "      <td>0.836456</td>\n",
              "      <td>00:05</td>\n",
              "    </tr>\n",
              "    <tr>\n",
              "      <td>2</td>\n",
              "      <td>0.358782</td>\n",
              "      <td>0.354110</td>\n",
              "      <td>0.838606</td>\n",
              "      <td>00:04</td>\n",
              "    </tr>\n",
              "  </tbody>\n",
              "</table>"
            ],
            "text/plain": [
              "<IPython.core.display.HTML object>"
            ]
          },
          "metadata": {
            "tags": []
          }
        }
      ]
    },
    {
      "cell_type": "code",
      "metadata": {
        "colab": {
          "base_uri": "https://localhost:8080/",
          "height": 422
        },
        "id": "qkh1fa-dwYba",
        "outputId": "eaa363df-ffb8-4860-884a-98fb436297e8"
      },
      "source": [
        "from fastai.collab import *\r\n",
        "path = untar_data(URLs.ML_SAMPLE)\r\n",
        "dls = CollabDataLoaders.from_csv(path/'ratings.csv')\r\n",
        "learn = collab_learner(dls, y_range=(0.5, 5.5))\r\n",
        "learn.fine_tune(10)"
      ],
      "execution_count": null,
      "outputs": [
        {
          "output_type": "display_data",
          "data": {
            "text/html": [
              ""
            ],
            "text/plain": [
              "<IPython.core.display.HTML object>"
            ]
          },
          "metadata": {
            "tags": []
          }
        },
        {
          "output_type": "display_data",
          "data": {
            "text/html": [
              "<table border=\"1\" class=\"dataframe\">\n",
              "  <thead>\n",
              "    <tr style=\"text-align: left;\">\n",
              "      <th>epoch</th>\n",
              "      <th>train_loss</th>\n",
              "      <th>valid_loss</th>\n",
              "      <th>time</th>\n",
              "    </tr>\n",
              "  </thead>\n",
              "  <tbody>\n",
              "    <tr>\n",
              "      <td>0</td>\n",
              "      <td>1.523505</td>\n",
              "      <td>1.370894</td>\n",
              "      <td>00:00</td>\n",
              "    </tr>\n",
              "  </tbody>\n",
              "</table>"
            ],
            "text/plain": [
              "<IPython.core.display.HTML object>"
            ]
          },
          "metadata": {
            "tags": []
          }
        },
        {
          "output_type": "display_data",
          "data": {
            "text/html": [
              "<table border=\"1\" class=\"dataframe\">\n",
              "  <thead>\n",
              "    <tr style=\"text-align: left;\">\n",
              "      <th>epoch</th>\n",
              "      <th>train_loss</th>\n",
              "      <th>valid_loss</th>\n",
              "      <th>time</th>\n",
              "    </tr>\n",
              "  </thead>\n",
              "  <tbody>\n",
              "    <tr>\n",
              "      <td>0</td>\n",
              "      <td>1.376641</td>\n",
              "      <td>1.314423</td>\n",
              "      <td>00:00</td>\n",
              "    </tr>\n",
              "    <tr>\n",
              "      <td>1</td>\n",
              "      <td>1.269486</td>\n",
              "      <td>1.149268</td>\n",
              "      <td>00:00</td>\n",
              "    </tr>\n",
              "    <tr>\n",
              "      <td>2</td>\n",
              "      <td>1.038812</td>\n",
              "      <td>0.872797</td>\n",
              "      <td>00:00</td>\n",
              "    </tr>\n",
              "    <tr>\n",
              "      <td>3</td>\n",
              "      <td>0.808577</td>\n",
              "      <td>0.739604</td>\n",
              "      <td>00:00</td>\n",
              "    </tr>\n",
              "    <tr>\n",
              "      <td>4</td>\n",
              "      <td>0.683574</td>\n",
              "      <td>0.704792</td>\n",
              "      <td>00:00</td>\n",
              "    </tr>\n",
              "    <tr>\n",
              "      <td>5</td>\n",
              "      <td>0.637614</td>\n",
              "      <td>0.692062</td>\n",
              "      <td>00:00</td>\n",
              "    </tr>\n",
              "    <tr>\n",
              "      <td>6</td>\n",
              "      <td>0.612353</td>\n",
              "      <td>0.687290</td>\n",
              "      <td>00:00</td>\n",
              "    </tr>\n",
              "    <tr>\n",
              "      <td>7</td>\n",
              "      <td>0.601213</td>\n",
              "      <td>0.683959</td>\n",
              "      <td>00:00</td>\n",
              "    </tr>\n",
              "    <tr>\n",
              "      <td>8</td>\n",
              "      <td>0.591572</td>\n",
              "      <td>0.683395</td>\n",
              "      <td>00:00</td>\n",
              "    </tr>\n",
              "    <tr>\n",
              "      <td>9</td>\n",
              "      <td>0.588204</td>\n",
              "      <td>0.683203</td>\n",
              "      <td>00:00</td>\n",
              "    </tr>\n",
              "  </tbody>\n",
              "</table>"
            ],
            "text/plain": [
              "<IPython.core.display.HTML object>"
            ]
          },
          "metadata": {
            "tags": []
          }
        }
      ]
    },
    {
      "cell_type": "code",
      "metadata": {
        "colab": {
          "base_uri": "https://localhost:8080/",
          "height": 328
        },
        "id": "xUhiC0HY2Z8w",
        "outputId": "aa246b5f-1b4e-4536-f99f-261f84aa4973"
      },
      "source": [
        "learn.show_results()"
      ],
      "execution_count": null,
      "outputs": [
        {
          "output_type": "display_data",
          "data": {
            "text/html": [
              ""
            ],
            "text/plain": [
              "<IPython.core.display.HTML object>"
            ]
          },
          "metadata": {
            "tags": []
          }
        },
        {
          "output_type": "display_data",
          "data": {
            "text/html": [
              "<table border=\"1\" class=\"dataframe\">\n",
              "  <thead>\n",
              "    <tr style=\"text-align: right;\">\n",
              "      <th></th>\n",
              "      <th>userId</th>\n",
              "      <th>movieId</th>\n",
              "      <th>rating</th>\n",
              "      <th>rating_pred</th>\n",
              "    </tr>\n",
              "  </thead>\n",
              "  <tbody>\n",
              "    <tr>\n",
              "      <th>0</th>\n",
              "      <td>41.0</td>\n",
              "      <td>40.0</td>\n",
              "      <td>4.0</td>\n",
              "      <td>3.365139</td>\n",
              "    </tr>\n",
              "    <tr>\n",
              "      <th>1</th>\n",
              "      <td>89.0</td>\n",
              "      <td>35.0</td>\n",
              "      <td>4.0</td>\n",
              "      <td>4.019029</td>\n",
              "    </tr>\n",
              "    <tr>\n",
              "      <th>2</th>\n",
              "      <td>8.0</td>\n",
              "      <td>87.0</td>\n",
              "      <td>2.5</td>\n",
              "      <td>3.487842</td>\n",
              "    </tr>\n",
              "    <tr>\n",
              "      <th>3</th>\n",
              "      <td>33.0</td>\n",
              "      <td>10.0</td>\n",
              "      <td>2.0</td>\n",
              "      <td>2.510370</td>\n",
              "    </tr>\n",
              "    <tr>\n",
              "      <th>4</th>\n",
              "      <td>38.0</td>\n",
              "      <td>20.0</td>\n",
              "      <td>5.0</td>\n",
              "      <td>4.344522</td>\n",
              "    </tr>\n",
              "    <tr>\n",
              "      <th>5</th>\n",
              "      <td>1.0</td>\n",
              "      <td>84.0</td>\n",
              "      <td>5.0</td>\n",
              "      <td>3.667416</td>\n",
              "    </tr>\n",
              "    <tr>\n",
              "      <th>6</th>\n",
              "      <td>98.0</td>\n",
              "      <td>8.0</td>\n",
              "      <td>4.5</td>\n",
              "      <td>4.371114</td>\n",
              "    </tr>\n",
              "    <tr>\n",
              "      <th>7</th>\n",
              "      <td>2.0</td>\n",
              "      <td>94.0</td>\n",
              "      <td>1.5</td>\n",
              "      <td>3.389549</td>\n",
              "    </tr>\n",
              "    <tr>\n",
              "      <th>8</th>\n",
              "      <td>27.0</td>\n",
              "      <td>68.0</td>\n",
              "      <td>1.5</td>\n",
              "      <td>3.339740</td>\n",
              "    </tr>\n",
              "  </tbody>\n",
              "</table>"
            ],
            "text/plain": [
              "<IPython.core.display.HTML object>"
            ]
          },
          "metadata": {
            "tags": []
          }
        }
      ]
    }
  ]
}