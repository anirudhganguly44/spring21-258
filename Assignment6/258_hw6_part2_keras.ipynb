{
  "nbformat": 4,
  "nbformat_minor": 0,
  "metadata": {
    "colab": {
      "name": "258_hw6_part2_keras.ipynb",
      "provenance": [],
      "collapsed_sections": []
    },
    "kernelspec": {
      "name": "python3",
      "display_name": "Python 3"
    },
    "language_info": {
      "name": "python"
    }
  },
  "cells": [
    {
      "cell_type": "markdown",
      "metadata": {
        "id": "Flb34ehIMiQp"
      },
      "source": [
        "# Dog breed image classifier using keras CNN"
      ]
    },
    {
      "cell_type": "code",
      "metadata": {
        "id": "_qdJnbsi2xZj"
      },
      "source": [
        "import tensorflow as tf\n",
        "from tensorflow.keras.models import Sequential \n",
        "from tensorflow.keras.layers import Dense, Conv2D, MaxPooling2D, Flatten\n",
        "import numpy as np\n",
        "import matplotlib.pyplot as plt\n",
        "import pandas as pd"
      ],
      "execution_count": null,
      "outputs": []
    },
    {
      "cell_type": "code",
      "metadata": {
        "colab": {
          "base_uri": "https://localhost:8080/"
        },
        "id": "bZwA7A3cC2LD",
        "outputId": "6e766193-c29b-4b61-830d-8f0ed6b5bfbf"
      },
      "source": [
        "from google.colab import drive\n",
        "drive.mount(\"/content/drive\")"
      ],
      "execution_count": null,
      "outputs": [
        {
          "output_type": "stream",
          "text": [
            "Drive already mounted at /content/drive; to attempt to forcibly remount, call drive.mount(\"/content/drive\", force_remount=True).\n"
          ],
          "name": "stdout"
        }
      ]
    },
    {
      "cell_type": "code",
      "metadata": {
        "id": "E7a95uodRRnA"
      },
      "source": [
        "def update_path(path):\n",
        "  return '/content/drive/MyDrive/dogs/train/' + path"
      ],
      "execution_count": null,
      "outputs": []
    },
    {
      "cell_type": "code",
      "metadata": {
        "id": "sng4Y2PfDEdI"
      },
      "source": [
        "training_csv = pd.read_csv(\"/content/drive/MyDrive/dogs/labels.csv\")\n",
        "\n",
        "training_imgs = [\"{}.jpg\".format(x) for x in list(training_csv.id)]\n",
        "\n",
        "training_set = pd.DataFrame({'Images': training_imgs})\n",
        "training_set['breed'] = training_csv['breed']\n",
        "training_set['Images'] = training_set['Images'].apply(update_path)"
      ],
      "execution_count": null,
      "outputs": []
    },
    {
      "cell_type": "code",
      "metadata": {
        "colab": {
          "base_uri": "https://localhost:8080/",
          "height": 407
        },
        "id": "I0iqlpWVOq4N",
        "outputId": "2e5ea0fa-10df-4275-c573-34289697a457"
      },
      "source": [
        "training_set"
      ],
      "execution_count": null,
      "outputs": [
        {
          "output_type": "execute_result",
          "data": {
            "text/html": [
              "<div>\n",
              "<style scoped>\n",
              "    .dataframe tbody tr th:only-of-type {\n",
              "        vertical-align: middle;\n",
              "    }\n",
              "\n",
              "    .dataframe tbody tr th {\n",
              "        vertical-align: top;\n",
              "    }\n",
              "\n",
              "    .dataframe thead th {\n",
              "        text-align: right;\n",
              "    }\n",
              "</style>\n",
              "<table border=\"1\" class=\"dataframe\">\n",
              "  <thead>\n",
              "    <tr style=\"text-align: right;\">\n",
              "      <th></th>\n",
              "      <th>Images</th>\n",
              "      <th>breed</th>\n",
              "    </tr>\n",
              "  </thead>\n",
              "  <tbody>\n",
              "    <tr>\n",
              "      <th>0</th>\n",
              "      <td>/content/drive/MyDrive/dogs/train/000bec180eb1...</td>\n",
              "      <td>boston_bull</td>\n",
              "    </tr>\n",
              "    <tr>\n",
              "      <th>1</th>\n",
              "      <td>/content/drive/MyDrive/dogs/train/001513dfcb2f...</td>\n",
              "      <td>dingo</td>\n",
              "    </tr>\n",
              "    <tr>\n",
              "      <th>2</th>\n",
              "      <td>/content/drive/MyDrive/dogs/train/001cdf01b096...</td>\n",
              "      <td>pekinese</td>\n",
              "    </tr>\n",
              "    <tr>\n",
              "      <th>3</th>\n",
              "      <td>/content/drive/MyDrive/dogs/train/00214f311d5d...</td>\n",
              "      <td>bluetick</td>\n",
              "    </tr>\n",
              "    <tr>\n",
              "      <th>4</th>\n",
              "      <td>/content/drive/MyDrive/dogs/train/0021f9ceb323...</td>\n",
              "      <td>golden_retriever</td>\n",
              "    </tr>\n",
              "    <tr>\n",
              "      <th>...</th>\n",
              "      <td>...</td>\n",
              "      <td>...</td>\n",
              "    </tr>\n",
              "    <tr>\n",
              "      <th>10217</th>\n",
              "      <td>/content/drive/MyDrive/dogs/train/ffd25009d635...</td>\n",
              "      <td>borzoi</td>\n",
              "    </tr>\n",
              "    <tr>\n",
              "      <th>10218</th>\n",
              "      <td>/content/drive/MyDrive/dogs/train/ffd3f636f7f3...</td>\n",
              "      <td>dandie_dinmont</td>\n",
              "    </tr>\n",
              "    <tr>\n",
              "      <th>10219</th>\n",
              "      <td>/content/drive/MyDrive/dogs/train/ffe2ca6c940c...</td>\n",
              "      <td>airedale</td>\n",
              "    </tr>\n",
              "    <tr>\n",
              "      <th>10220</th>\n",
              "      <td>/content/drive/MyDrive/dogs/train/ffe5f6d8e2bf...</td>\n",
              "      <td>miniature_pinscher</td>\n",
              "    </tr>\n",
              "    <tr>\n",
              "      <th>10221</th>\n",
              "      <td>/content/drive/MyDrive/dogs/train/fff43b079925...</td>\n",
              "      <td>chesapeake_bay_retriever</td>\n",
              "    </tr>\n",
              "  </tbody>\n",
              "</table>\n",
              "<p>10222 rows × 2 columns</p>\n",
              "</div>"
            ],
            "text/plain": [
              "                                                  Images                     breed\n",
              "0      /content/drive/MyDrive/dogs/train/000bec180eb1...               boston_bull\n",
              "1      /content/drive/MyDrive/dogs/train/001513dfcb2f...                     dingo\n",
              "2      /content/drive/MyDrive/dogs/train/001cdf01b096...                  pekinese\n",
              "3      /content/drive/MyDrive/dogs/train/00214f311d5d...                  bluetick\n",
              "4      /content/drive/MyDrive/dogs/train/0021f9ceb323...          golden_retriever\n",
              "...                                                  ...                       ...\n",
              "10217  /content/drive/MyDrive/dogs/train/ffd25009d635...                    borzoi\n",
              "10218  /content/drive/MyDrive/dogs/train/ffd3f636f7f3...            dandie_dinmont\n",
              "10219  /content/drive/MyDrive/dogs/train/ffe2ca6c940c...                  airedale\n",
              "10220  /content/drive/MyDrive/dogs/train/ffe5f6d8e2bf...        miniature_pinscher\n",
              "10221  /content/drive/MyDrive/dogs/train/fff43b079925...  chesapeake_bay_retriever\n",
              "\n",
              "[10222 rows x 2 columns]"
            ]
          },
          "metadata": {
            "tags": []
          },
          "execution_count": 38
        }
      ]
    },
    {
      "cell_type": "code",
      "metadata": {
        "colab": {
          "base_uri": "https://localhost:8080/"
        },
        "id": "ogrmQqCXD_dE",
        "outputId": "c55bfd02-9a80-4112-f18f-e3167a357580"
      },
      "source": [
        "from tensorflow.keras.preprocessing.image import ImageDataGenerator\n",
        "\n",
        "train_dataGen = ImageDataGenerator(rescale = 1./255,\n",
        "                                  shear_range = 0.2,\n",
        "                                  zoom_range = 0.2,\n",
        "                                  horizontal_flip = True)\n",
        "\n",
        "train_generator = train_dataGen.flow_from_dataframe(\n",
        "                                        dataframe = training_set,\n",
        "                                        directory=\"\",x_col=\"Images\",\n",
        "                                        y_col=\"breed\",\n",
        "                                        class_mode=\"categorical\",\n",
        "                                        target_size=(128,128),\n",
        "                                        batch_size=32)"
      ],
      "execution_count": null,
      "outputs": [
        {
          "output_type": "stream",
          "text": [
            "Found 10222 validated image filenames belonging to 120 classes.\n"
          ],
          "name": "stdout"
        }
      ]
    },
    {
      "cell_type": "code",
      "metadata": {
        "id": "WAFkMaaeExjF"
      },
      "source": [
        "classifier = Sequential()\n",
        "classifier.add(Conv2D(filters = 56,kernel_size = (3,3), activation = 'relu', input_shape = (128,128,3)))\n",
        "classifier.add(MaxPooling2D(pool_size = (2,2)))\n",
        "classifier.add(Conv2D(32,(3,3),activation = 'relu'))\n",
        "classifier.add(MaxPooling2D(pool_size = (2,2)))\n",
        "classifier.add(Flatten())\n",
        "classifier.add(Dense(units = 256, activation = 'relu'))\n",
        "classifier.add(Dense(units = 120 , activation = 'softmax'))\n",
        "\n",
        "classifier.compile(optimizer = 'adam', loss = 'categorical_crossentropy', metrics = ['categorical_accuracy','accuracy'])"
      ],
      "execution_count": null,
      "outputs": []
    },
    {
      "cell_type": "code",
      "metadata": {
        "colab": {
          "base_uri": "https://localhost:8080/"
        },
        "id": "1bqpK_31FPqE",
        "outputId": "86932e87-ef40-43e4-bfb6-f7761e21bb3c"
      },
      "source": [
        "classifier.summary()"
      ],
      "execution_count": null,
      "outputs": [
        {
          "output_type": "stream",
          "text": [
            "Model: \"sequential_4\"\n",
            "_________________________________________________________________\n",
            "Layer (type)                 Output Shape              Param #   \n",
            "=================================================================\n",
            "conv2d_6 (Conv2D)            (None, 126, 126, 56)      1568      \n",
            "_________________________________________________________________\n",
            "max_pooling2d_6 (MaxPooling2 (None, 63, 63, 56)        0         \n",
            "_________________________________________________________________\n",
            "conv2d_7 (Conv2D)            (None, 61, 61, 32)        16160     \n",
            "_________________________________________________________________\n",
            "max_pooling2d_7 (MaxPooling2 (None, 30, 30, 32)        0         \n",
            "_________________________________________________________________\n",
            "flatten_3 (Flatten)          (None, 28800)             0         \n",
            "_________________________________________________________________\n",
            "dense_6 (Dense)              (None, 256)               7373056   \n",
            "_________________________________________________________________\n",
            "dense_7 (Dense)              (None, 120)               30840     \n",
            "=================================================================\n",
            "Total params: 7,421,624\n",
            "Trainable params: 7,421,624\n",
            "Non-trainable params: 0\n",
            "_________________________________________________________________\n"
          ],
          "name": "stdout"
        }
      ]
    },
    {
      "cell_type": "code",
      "metadata": {
        "colab": {
          "base_uri": "https://localhost:8080/"
        },
        "id": "OyvRNHxaFUHQ",
        "outputId": "53af5247-5b65-4559-e7c5-ab063a015d31"
      },
      "source": [
        "classifier.fit_generator(train_generator, epochs = 50, steps_per_epoch = 60 )"
      ],
      "execution_count": null,
      "outputs": [
        {
          "output_type": "stream",
          "text": [
            "/usr/local/lib/python3.7/dist-packages/tensorflow/python/keras/engine/training.py:1844: UserWarning: `Model.fit_generator` is deprecated and will be removed in a future version. Please use `Model.fit`, which supports generators.\n",
            "  warnings.warn('`Model.fit_generator` is deprecated and '\n"
          ],
          "name": "stderr"
        },
        {
          "output_type": "stream",
          "text": [
            "Epoch 1/50\n",
            "60/60 [==============================] - 942s 16s/step - loss: 4.8367 - categorical_accuracy: 0.0091 - accuracy: 0.0091\n",
            "Epoch 2/50\n",
            "60/60 [==============================] - 703s 12s/step - loss: 4.7832 - categorical_accuracy: 0.0107 - accuracy: 0.0107\n",
            "Epoch 3/50\n",
            "60/60 [==============================] - 569s 9s/step - loss: 4.7760 - categorical_accuracy: 0.0126 - accuracy: 0.0126\n",
            "Epoch 4/50\n",
            "60/60 [==============================] - 463s 8s/step - loss: 4.7441 - categorical_accuracy: 0.0187 - accuracy: 0.0187\n",
            "Epoch 5/50\n",
            "60/60 [==============================] - 413s 7s/step - loss: 4.6812 - categorical_accuracy: 0.0160 - accuracy: 0.0160\n",
            "Epoch 6/50\n",
            "60/60 [==============================] - 306s 5s/step - loss: 4.6192 - categorical_accuracy: 0.0244 - accuracy: 0.0244\n",
            "Epoch 7/50\n",
            "60/60 [==============================] - 252s 4s/step - loss: 4.6243 - categorical_accuracy: 0.0296 - accuracy: 0.0296\n",
            "Epoch 8/50\n",
            "60/60 [==============================] - 214s 4s/step - loss: 4.5666 - categorical_accuracy: 0.0343 - accuracy: 0.0343\n",
            "Epoch 9/50\n",
            "60/60 [==============================] - 198s 3s/step - loss: 4.5324 - categorical_accuracy: 0.0354 - accuracy: 0.0354\n",
            "Epoch 10/50\n",
            "60/60 [==============================] - 156s 3s/step - loss: 4.4539 - categorical_accuracy: 0.0481 - accuracy: 0.0481\n",
            "Epoch 11/50\n",
            "60/60 [==============================] - 120s 2s/step - loss: 4.4322 - categorical_accuracy: 0.0616 - accuracy: 0.0616\n",
            "Epoch 12/50\n",
            "60/60 [==============================] - 98s 2s/step - loss: 4.3756 - categorical_accuracy: 0.0612 - accuracy: 0.0612\n",
            "Epoch 13/50\n",
            "60/60 [==============================] - 95s 2s/step - loss: 4.3161 - categorical_accuracy: 0.0575 - accuracy: 0.0575\n",
            "Epoch 14/50\n",
            "60/60 [==============================] - 78s 1s/step - loss: 4.2659 - categorical_accuracy: 0.0798 - accuracy: 0.0798\n",
            "Epoch 15/50\n",
            "60/60 [==============================] - 74s 1s/step - loss: 4.2917 - categorical_accuracy: 0.0782 - accuracy: 0.0782\n",
            "Epoch 16/50\n",
            "60/60 [==============================] - 66s 1s/step - loss: 4.2581 - categorical_accuracy: 0.0906 - accuracy: 0.0906\n",
            "Epoch 17/50\n",
            "60/60 [==============================] - 54s 890ms/step - loss: 4.1824 - categorical_accuracy: 0.0754 - accuracy: 0.0754\n",
            "Epoch 18/50\n",
            "60/60 [==============================] - 54s 893ms/step - loss: 4.1729 - categorical_accuracy: 0.0889 - accuracy: 0.0889\n",
            "Epoch 19/50\n",
            "60/60 [==============================] - 52s 863ms/step - loss: 4.1279 - categorical_accuracy: 0.0916 - accuracy: 0.0916\n",
            "Epoch 20/50\n",
            "60/60 [==============================] - 47s 765ms/step - loss: 4.0468 - categorical_accuracy: 0.1160 - accuracy: 0.1160\n",
            "Epoch 21/50\n",
            "60/60 [==============================] - 47s 787ms/step - loss: 4.0198 - categorical_accuracy: 0.1205 - accuracy: 0.1205\n",
            "Epoch 22/50\n",
            "60/60 [==============================] - 45s 752ms/step - loss: 3.9768 - categorical_accuracy: 0.1263 - accuracy: 0.1263\n",
            "Epoch 23/50\n",
            "60/60 [==============================] - 43s 718ms/step - loss: 3.9514 - categorical_accuracy: 0.1357 - accuracy: 0.1357\n",
            "Epoch 24/50\n",
            "60/60 [==============================] - 42s 693ms/step - loss: 3.9155 - categorical_accuracy: 0.1429 - accuracy: 0.1429\n",
            "Epoch 25/50\n",
            "60/60 [==============================] - 43s 698ms/step - loss: 3.8685 - categorical_accuracy: 0.1475 - accuracy: 0.1475\n",
            "Epoch 26/50\n",
            "60/60 [==============================] - 43s 713ms/step - loss: 3.8175 - categorical_accuracy: 0.1673 - accuracy: 0.1673\n",
            "Epoch 27/50\n",
            "60/60 [==============================] - 41s 687ms/step - loss: 3.6983 - categorical_accuracy: 0.1730 - accuracy: 0.1730\n",
            "Epoch 28/50\n",
            "60/60 [==============================] - 41s 674ms/step - loss: 3.7250 - categorical_accuracy: 0.1782 - accuracy: 0.1782\n",
            "Epoch 29/50\n",
            "60/60 [==============================] - 41s 683ms/step - loss: 3.6733 - categorical_accuracy: 0.1746 - accuracy: 0.1746\n",
            "Epoch 30/50\n",
            "60/60 [==============================] - 41s 678ms/step - loss: 3.6448 - categorical_accuracy: 0.2001 - accuracy: 0.2001\n",
            "Epoch 31/50\n",
            "60/60 [==============================] - 41s 684ms/step - loss: 3.6233 - categorical_accuracy: 0.1895 - accuracy: 0.1895\n",
            "Epoch 32/50\n",
            "60/60 [==============================] - 41s 678ms/step - loss: 3.5551 - categorical_accuracy: 0.2010 - accuracy: 0.2010\n",
            "Epoch 33/50\n",
            "60/60 [==============================] - 40s 669ms/step - loss: 3.5871 - categorical_accuracy: 0.1957 - accuracy: 0.1957\n",
            "Epoch 34/50\n",
            "60/60 [==============================] - 41s 679ms/step - loss: 3.4816 - categorical_accuracy: 0.2103 - accuracy: 0.2103\n",
            "Epoch 35/50\n",
            "60/60 [==============================] - 41s 674ms/step - loss: 3.4209 - categorical_accuracy: 0.2245 - accuracy: 0.2245\n",
            "Epoch 36/50\n",
            "60/60 [==============================] - 41s 685ms/step - loss: 3.4985 - categorical_accuracy: 0.2213 - accuracy: 0.2213\n",
            "Epoch 37/50\n",
            "60/60 [==============================] - 41s 682ms/step - loss: 3.2247 - categorical_accuracy: 0.2744 - accuracy: 0.2744\n",
            "Epoch 38/50\n",
            "60/60 [==============================] - 41s 675ms/step - loss: 3.3897 - categorical_accuracy: 0.2439 - accuracy: 0.2439\n",
            "Epoch 39/50\n",
            "60/60 [==============================] - 41s 675ms/step - loss: 3.2907 - categorical_accuracy: 0.2599 - accuracy: 0.2599\n",
            "Epoch 40/50\n",
            "60/60 [==============================] - 40s 668ms/step - loss: 3.3605 - categorical_accuracy: 0.2344 - accuracy: 0.2344\n",
            "Epoch 41/50\n",
            "60/60 [==============================] - 41s 678ms/step - loss: 3.1997 - categorical_accuracy: 0.2879 - accuracy: 0.2879\n",
            "Epoch 42/50\n",
            "60/60 [==============================] - 41s 677ms/step - loss: 3.1495 - categorical_accuracy: 0.2680 - accuracy: 0.2680\n",
            "Epoch 43/50\n",
            "60/60 [==============================] - 41s 679ms/step - loss: 3.1094 - categorical_accuracy: 0.2923 - accuracy: 0.2923\n",
            "Epoch 44/50\n",
            "60/60 [==============================] - 41s 674ms/step - loss: 3.0143 - categorical_accuracy: 0.2927 - accuracy: 0.2927\n",
            "Epoch 45/50\n",
            "60/60 [==============================] - 41s 680ms/step - loss: 3.1190 - categorical_accuracy: 0.2816 - accuracy: 0.2816\n",
            "Epoch 46/50\n",
            "60/60 [==============================] - 40s 668ms/step - loss: 2.9428 - categorical_accuracy: 0.3237 - accuracy: 0.3237\n",
            "Epoch 47/50\n",
            "60/60 [==============================] - 44s 735ms/step - loss: 2.9504 - categorical_accuracy: 0.3253 - accuracy: 0.3253\n",
            "Epoch 48/50\n",
            "60/60 [==============================] - 42s 698ms/step - loss: 2.9285 - categorical_accuracy: 0.3189 - accuracy: 0.3189\n",
            "Epoch 49/50\n",
            "60/60 [==============================] - 42s 693ms/step - loss: 2.8068 - categorical_accuracy: 0.3649 - accuracy: 0.3649\n",
            "Epoch 50/50\n",
            "60/60 [==============================] - 42s 695ms/step - loss: 2.9142 - categorical_accuracy: 0.3394 - accuracy: 0.3394\n"
          ],
          "name": "stdout"
        },
        {
          "output_type": "execute_result",
          "data": {
            "text/plain": [
              "<tensorflow.python.keras.callbacks.History at 0x7f18c786af10>"
            ]
          },
          "metadata": {
            "tags": []
          },
          "execution_count": 42
        }
      ]
    }
  ]
}