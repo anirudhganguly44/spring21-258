{
  "nbformat": 4,
  "nbformat_minor": 0,
  "metadata": {
    "colab": {
      "name": "258_hw4_parta.ipynb",
      "provenance": [],
      "collapsed_sections": []
    },
    "kernelspec": {
      "display_name": "Python 3",
      "name": "python3"
    },
    "language_info": {
      "name": "python"
    }
  },
  "cells": [
    {
      "cell_type": "markdown",
      "metadata": {
        "id": "YRsBwNJ0kWHT"
      },
      "source": [
        "Imports"
      ]
    },
    {
      "cell_type": "code",
      "metadata": {
        "id": "Jie4zK8LfWb_"
      },
      "source": [
        "from sklearn.datasets import fetch_openml\n",
        "from keras.utils.np_utils import to_categorical\n",
        "import numpy as np\n",
        "import pandas as pd\n",
        "from sklearn.model_selection import train_test_split\n",
        "import matplotlib.pyplot as plt\n",
        "import time\n"
      ],
      "execution_count": 2,
      "outputs": []
    },
    {
      "cell_type": "markdown",
      "metadata": {
        "id": "gMHO8MqOOBN3"
      },
      "source": [
        "Loading MNIST dataset"
      ]
    },
    {
      "cell_type": "code",
      "metadata": {
        "id": "nY1S_3DbkbXq",
        "colab": {
          "base_uri": "https://localhost:8080/"
        },
        "outputId": "300477f0-56ae-492d-8457-a2e5d3e7ad9e"
      },
      "source": [
        "x, y = fetch_openml('mnist_784', version=1, return_X_y=True)\n",
        "x = (x/255).astype('float32')\n",
        "y = to_categorical(y)\n",
        "\n",
        "x_train, x_val, y_train, y_val = train_test_split(x, y, test_size=0.15, random_state=42)\n",
        "\n",
        "print(x_train.shape)\n",
        "print(x_val.shape)"
      ],
      "execution_count": 12,
      "outputs": [
        {
          "output_type": "stream",
          "text": [
            "(59500, 784)\n",
            "(10500, 784)\n"
          ],
          "name": "stdout"
        }
      ]
    },
    {
      "cell_type": "code",
      "metadata": {
        "colab": {
          "base_uri": "https://localhost:8080/",
          "height": 129
        },
        "id": "fZdHO44wnTKD",
        "outputId": "89b944df-9525-4f60-bedb-50bbaecd57a3"
      },
      "source": [
        "def show_digit(digit):\n",
        "  digit_pixels = digit.reshape(28, 28)\n",
        "  plt.subplot(131)\n",
        "  plt.imshow(digit_pixels)\n",
        "  plt.axis('off')\n",
        "\n",
        "show_digit(x[0])"
      ],
      "execution_count": 4,
      "outputs": [
        {
          "output_type": "display_data",
          "data": {
            "image/png": "[encoded data removed]",
            "text/plain": [
              "<Figure size 432x288 with 1 Axes>"
            ]
          },
          "metadata": {
            "tags": [],
            "needs_background": "light"
          }
        }
      ]
    },
    {
      "cell_type": "code",
      "metadata": {
        "colab": {
          "base_uri": "https://localhost:8080/"
        },
        "id": "lIWzkuj4n3uX",
        "outputId": "7dac03da-c40e-4181-a648-7d72e5e90e00"
      },
      "source": [
        "y"
      ],
      "execution_count": 5,
      "outputs": [
        {
          "output_type": "execute_result",
          "data": {
            "text/plain": [
              "array([[0., 0., 0., ..., 0., 0., 0.],\n",
              "       [1., 0., 0., ..., 0., 0., 0.],\n",
              "       [0., 0., 0., ..., 0., 0., 0.],\n",
              "       ...,\n",
              "       [0., 0., 0., ..., 0., 0., 0.],\n",
              "       [0., 0., 0., ..., 0., 0., 0.],\n",
              "       [0., 0., 0., ..., 0., 0., 0.]], dtype=float32)"
            ]
          },
          "metadata": {
            "tags": []
          },
          "execution_count": 5
        }
      ]
    },
    {
      "cell_type": "markdown",
      "metadata": {
        "id": "bKwMU2pgL8Qk"
      },
      "source": [
        "Image Augmentation - using random image rotation"
      ]
    },
    {
      "cell_type": "code",
      "metadata": {
        "colab": {
          "base_uri": "https://localhost:8080/",
          "height": 268
        },
        "id": "wy0A6e69KGbD",
        "outputId": "1c441bf8-e648-41d2-bcfe-35b3ee797c51"
      },
      "source": [
        "from keras.preprocessing.image import ImageDataGenerator\n",
        "from matplotlib import pyplot\n",
        "\n",
        "x_train_aug = x_train.reshape((x_train.shape[0], 28, 28, 1))\n",
        "datagen = ImageDataGenerator(rotation_range=90)\n",
        "# fit parameters from data\n",
        "datagen.fit(x_train_aug)\n",
        "# configure batch size and retrieve one batch of images\n",
        "for X_batch, y_batch in datagen.flow(x_train_aug, y_train, batch_size=9):\n",
        "\t# create a grid of 3x3 images\n",
        "\tfor i in range(0, 9):\n",
        "\t\tpyplot.subplot(330 + 1 + i)\n",
        "\t\tpyplot.imshow(X_batch[i].reshape(28, 28), cmap=pyplot.get_cmap('gray'))\n",
        "\t# show the plot\n",
        "\tpyplot.show()\n",
        "\tbreak"
      ],
      "execution_count": 6,
      "outputs": [
        {
          "output_type": "display_data",
          "data": {
            "image/png": "[encoded data removed]",
            "text/plain": [
              "<Figure size 432x288 with 9 Axes>"
            ]
          },
          "metadata": {
            "tags": [],
            "needs_background": "light"
          }
        }
      ]
    },
    {
      "cell_type": "code",
      "metadata": {
        "id": "u0gxziJGKOMe"
      },
      "source": [
        "def rotate_image(x, y):\n",
        "  from keras.preprocessing.image import ImageDataGenerator\n",
        "  x = x.reshape((x.shape[0], 28, 28, 1))\n",
        "  datagen = ImageDataGenerator(rotation_range=90)\n",
        "  datagen.fit(x)\n",
        "\n",
        "  for x_aug, y_aug in datagen.flow(x, y, batch_size=10000):\n",
        "    return x_aug, y_aug"
      ],
      "execution_count": 10,
      "outputs": []
    },
    {
      "cell_type": "code",
      "metadata": {
        "colab": {
          "base_uri": "https://localhost:8080/"
        },
        "id": "k2RyquBFKQuE",
        "outputId": "49881053-dc2f-479f-c92e-226df1ece868"
      },
      "source": [
        "x_train_aug, y_train_aug = rotate_image(x_train, y_train)\n",
        "x_test_aug, y_test_aug = rotate_image(x_val, y_val)\n",
        "\n",
        "x_train_aug = x_train_aug.reshape(x_train_aug.shape[0], 784)\n",
        "x_test_aug = x_test_aug.reshape(x_test_aug.shape[0], 784)\n",
        "\n",
        "print(x_train_aug.shape)\n",
        "print(x_test_aug.shape)\n",
        "\n",
        "x_train = np.concatenate((x_train, x_train_aug), axis=0)\n",
        "y_train = np.concatenate((y_train, y_train_aug), axis=0)\n",
        "\n",
        "x_val = np.concatenate((x_val, x_test_aug), axis=0)\n",
        "y_val = np.concatenate((y_val, y_test_aug), axis=0)\n",
        "\n",
        "print(x_train.shape)\n",
        "print(x_val.shape)"
      ],
      "execution_count": 13,
      "outputs": [
        {
          "output_type": "stream",
          "text": [
            "(10000, 784)\n",
            "(10000, 784)\n",
            "(69500, 784)\n",
            "(20500, 784)\n"
          ],
          "name": "stdout"
        }
      ]
    },
    {
      "cell_type": "markdown",
      "metadata": {
        "id": "v5iaSh1jN8Hu"
      },
      "source": [
        "DNN implemention with 3 layers"
      ]
    },
    {
      "cell_type": "code",
      "metadata": {
        "id": "JSqT5lOutSx4"
      },
      "source": [
        "class Relu:\n",
        "  def __call__(self, input_):\n",
        "    self.input = input_\n",
        "    self.output = np.clip(self.input, 0, None)\n",
        "    return self.output\n",
        "\n",
        "  def backward(self, gradient):\n",
        "    self.input_gradient = (self.input > 0) * gradient\n",
        "    return self.input_gradient"
      ],
      "execution_count": 14,
      "outputs": []
    },
    {
      "cell_type": "code",
      "metadata": {
        "id": "9POSjS3HozUM"
      },
      "source": [
        "class DeepNeuralNetwork:\n",
        "  def __init__(self, sizes, epochs=10, lr=0.001):\n",
        "    self.sizes = sizes\n",
        "    self.epochs = epochs\n",
        "    self.lr = lr\n",
        "    self.params = self.initialization()\n",
        "\n",
        "  def initialization(self):\n",
        "    input_layer=self.sizes[0]\n",
        "    hidden_1=self.sizes[1]\n",
        "    hidden_2=self.sizes[2]\n",
        "    output_layer=self.sizes[3]\n",
        "\n",
        "    params = {\n",
        "        'W1':np.random.randn(hidden_1, input_layer) * np.sqrt(1. / hidden_1),\n",
        "        'W2':np.random.randn(hidden_2, hidden_1) * np.sqrt(1. / hidden_2),\n",
        "        'W3':np.random.randn(output_layer, hidden_2) * np.sqrt(1. / output_layer),\n",
        "        'B1': np.zeros(1),\n",
        "        'B2': np.zeros(1),\n",
        "        'B3': np.zeros(1),\n",
        "    }\n",
        "    return params\n",
        "\n",
        "  def relu(self, data, derivative=False):\n",
        "    if derivative:\n",
        "      return  (data > 0) * 1\n",
        "    return np.clip(data, 0, None)\n",
        "\n",
        "  def softmax(self, x, derivative=False):\n",
        "        # Numerically stable with large exponentials\n",
        "        exps = np.exp(x - x.max())\n",
        "        if derivative:\n",
        "            return exps / np.sum(exps, axis=0) * (1 - exps / np.sum(exps, axis=0))\n",
        "        return exps / np.sum(exps, axis=0)\n",
        "\n",
        "  def forward(self, data):\n",
        "    params = self.params\n",
        "\n",
        "    params['A0'] = data\n",
        "\n",
        "    params['Z1'] = np.dot(params['W1'], params['A0']) + params['B1']\n",
        "    params['A1'] = self.relu(params['Z1'])\n",
        "\n",
        "    params['Z2'] = np.dot(params['W2'], params['A1']) + params['B2']\n",
        "    params['A2'] = self.relu(params['Z2'])\n",
        "\n",
        "    params['Z3'] = np.dot(params['W3'], params['A2']) + params['B3']\n",
        "    params['A3'] = self.softmax(params['Z3'])\n",
        "\n",
        "    return params['A3']\n",
        "\n",
        "  def backward(self, y_train, output):\n",
        "    params = self.params\n",
        "    change_w = {}\n",
        "\n",
        "    # Calculate W3 update\n",
        "    error = 2 * (output - pd.to_numeric(y_train)) / output.shape[0] * self.softmax(params['Z3'], derivative=True)\n",
        "    change_w['W3'] = np.outer(error, params['A2'])\n",
        "    change_w['B3'] = error.sum()\n",
        "\n",
        "    # Calculate W2 update\n",
        "    error = np.dot(params['W3'].T, error) * self.relu(params['Z2'], derivative=True)\n",
        "    change_w['W2'] = np.outer(error, params['A1'])\n",
        "    change_w['B2'] = error.sum()\n",
        "\n",
        "    # Calculate W1 update\n",
        "    error = np.dot(params['W2'].T, error) * self.relu(params['Z1'], derivative=True)\n",
        "    change_w['W1'] = np.outer(error, params['A0'])\n",
        "    change_w['B1'] = error.sum()\n",
        "\n",
        "    return change_w\n",
        "\n",
        "  \n",
        "  def get_cost_value(Y_hat, Y):\n",
        "    m = Y_hat.shape[1]\n",
        "    cost = -1 / m * (np.dot(Y, np.log(Y_hat).T) + np.dot(1 - Y, np.log(1 - Y_hat).T))\n",
        "    return np.squeeze(cost)\n",
        "\n",
        "  def train(self, x_train, y_train, x_val, y_val):\n",
        "        start_time = time.time()\n",
        "        for iteration in range(self.epochs):\n",
        "            for x,y in zip(x_train, y_train):\n",
        "                output = self.forward(x)\n",
        "                changes_to_w = self.backward(y, output)\n",
        "                self.update_network_parameters(changes_to_w)\n",
        "            \n",
        "            accuracy = self.compute_accuracy(x_val, y_val)\n",
        "            print('Epoch: {0}, Time Spent: {1:.2f}s, Accuracy: {2:.2f}%'.format(\n",
        "                iteration+1, time.time() - start_time, accuracy * 100\n",
        "            ))\n",
        "\n",
        "  def update_network_parameters(self, changes_to_w):\n",
        "     for key, value in changes_to_w.items():\n",
        "       self.params[key] -= self.lr * value\n",
        "   \n",
        "  def compute_accuracy(self, x_val, y_val):\n",
        "      predictions = []\n",
        "\n",
        "      for x, y in zip(x_val, y_val):\n",
        "          output = self.forward(x)\n",
        "          pred = np.argmax(output)\n",
        "          y = np.argmax(y)\n",
        "          predictions.append(pred == y)\n",
        "\n",
        "      return np.mean(predictions)\n",
        "\n",
        "\n",
        "\n"
      ],
      "execution_count": 15,
      "outputs": []
    },
    {
      "cell_type": "code",
      "metadata": {
        "colab": {
          "base_uri": "https://localhost:8080/"
        },
        "id": "hwKS4rIb4oM8",
        "outputId": "e3120020-593a-4472-e26f-e3bb80b7aedc"
      },
      "source": [
        "dnn = DeepNeuralNetwork(sizes=[784, 128, 64, 10])\n",
        "dnn.train(x_train, y_train, x_val, y_val)"
      ],
      "execution_count": 16,
      "outputs": [
        {
          "output_type": "stream",
          "text": [
            "Epoch: 1, Time Spent: 77.40s, Accuracy: 57.21%\n",
            "Epoch: 2, Time Spent: 157.93s, Accuracy: 63.50%\n",
            "Epoch: 3, Time Spent: 235.93s, Accuracy: 66.88%\n",
            "Epoch: 4, Time Spent: 313.12s, Accuracy: 69.10%\n",
            "Epoch: 5, Time Spent: 390.71s, Accuracy: 71.19%\n",
            "Epoch: 6, Time Spent: 469.20s, Accuracy: 72.56%\n",
            "Epoch: 7, Time Spent: 546.61s, Accuracy: 73.31%\n",
            "Epoch: 8, Time Spent: 623.86s, Accuracy: 74.16%\n",
            "Epoch: 9, Time Spent: 701.91s, Accuracy: 74.96%\n",
            "Epoch: 10, Time Spent: 780.28s, Accuracy: 75.42%\n"
          ],
          "name": "stdout"
        }
      ]
    }
  ]
}